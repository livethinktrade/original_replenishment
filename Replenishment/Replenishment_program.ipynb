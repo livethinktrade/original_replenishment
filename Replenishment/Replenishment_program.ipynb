{
 "cells": [
  {
   "cell_type": "code",
   "execution_count": 1,
   "id": "e6208782",
   "metadata": {},
   "outputs": [],
   "source": [
    "#FOLLOW THE ORDER OF CELLS BELOW STARTING HERE DONT DEVIATE\n",
    "import psycopg2\n",
    "import pandas as pd\n",
    "import pandas.io.sql as psql\n",
    "from psycopg2 import pool\n",
    "\n",
    "from sales_import import salesimport\n",
    "from delivery_import import deliveryimport\n",
    "from support_import import supportimport\n",
    "from casecapacity_import import casecapacity_import\n",
    "from delivery_update import delivery_update\n",
    "from sql_setup import sql_setup\n",
    "from replenishment import replenishment\n",
    "from reports_table import reports_table\n",
    "from sales_report import sales_report\n",
    "from sales_update import sales_update\n",
    "\n",
    "import numpy as np\n",
    "from psycopg2.extensions import register_adapter, AsIs\n",
    "psycopg2.extensions.register_adapter(np.int64, psycopg2._psycopg.AsIs)\n",
    "# from data_insertion import deliveryupdate\n",
    "\n",
    "\n",
    "\n",
    "# from data_insertion import delivery_insert\n",
    "\n",
    "from store_info import *\n"
   ]
  },
  {
   "cell_type": "code",
   "execution_count": 10,
   "id": "e334c275",
   "metadata": {},
   "outputs": [
    {
     "name": "stdout",
     "output_type": "stream",
     "text": [
      "texas_division\n",
      "('pass', 'pass')\n"
     ]
    }
   ],
   "source": [
    "# STEP 1 start of program and data check\n",
    "\n",
    "\n",
    "\n",
    "store_type_input = input()\n",
    "\n",
    "connection_pool = pool.SimpleConnectionPool(1, 10000, \n",
    "                                            database= f\"{store_type_input}\", \n",
    "                                            user=\"postgres\", \n",
    "                                            password=\"winwin\", \n",
    "                                            host=\"localhost\")\n",
    "\n",
    "\n",
    "\n",
    "\n",
    "\n",
    "# reads in new delivery data and puts it into a df\n",
    "new_deliv = pd.read_excel(rf'C:\\Users\\User1\\OneDrive\\WinWin Staff Folders\\Michael\\Groccery Store Program\\{store_type_input}\\{store_type_input}_deliverydata.xlsx')\n",
    "\n",
    "# reads in new sales data and puts it into a df\n",
    "new_sales = pd.read_excel(rf'C:\\Users\\User1\\OneDrive\\WinWin Staff Folders\\Michael\\Groccery Store Program\\{store_type_input}\\{store_type_input}_salesdata.xlsx')\n",
    "\n",
    "# reads in support data and puts it into a df\n",
    "itemsupport = pd.read_excel(\"support.xlsx\")\n",
    "\n",
    "# reads in store capactiy data and puts it into a df\n",
    "case_capacity = pd.read_excel(rf'C:\\Users\\User1\\OneDrive\\WinWin Staff Folders\\Michael\\Groccery Store Program\\{store_type_input}\\{store_type_input}_casecapacity.xlsx')\n",
    "\n",
    "\n",
    "def dataimport_check():\n",
    "\n",
    "    i=0\n",
    "    sales_check_count = len(new_sales)\n",
    "    while i < sales_check_count:\n",
    "\n",
    "        sales_check = new_sales.iloc[i,9]\n",
    "        if store_type_input == sales_check:\n",
    "            i+=1\n",
    "            sales_result = \"pass\" \n",
    "\n",
    "        else:\n",
    "            \n",
    "            print(\"sales check fail\")\n",
    "            sales_result = \"fail\"\n",
    "            break\n",
    "\n",
    "    if sales_result == 'pass':\n",
    "        \n",
    "        i=0\n",
    "        deliv_check_count = len(new_deliv)\n",
    "        while i < deliv_check_count:\n",
    "\n",
    "            deliv_check = new_deliv.iloc[i,6]\n",
    "            if store_type_input == deliv_check:\n",
    "                i+=1\n",
    "                deliv_result = \"pass\" \n",
    "\n",
    "            else:\n",
    "                \n",
    "                print(\"deliv check fail\")\n",
    "                deliv_result = \"fail\"\n",
    "                break\n",
    "    return sales_result, deliv_result\n",
    "        \n",
    "check = dataimport_check()\n",
    "print(check)"
   ]
  },
  {
   "cell_type": "code",
   "execution_count": 3,
   "id": "3353c8c3",
   "metadata": {},
   "outputs": [],
   "source": [
    "#run the function first then import"
   ]
  },
  {
   "cell_type": "code",
   "execution_count": 12,
   "id": "20733ea8",
   "metadata": {},
   "outputs": [],
   "source": [
    "#STEP 1.5 DELETE ALL PRE-EXISTING DATA\n",
    "connection = connection_pool.getconn()\n",
    "cursor = connection.cursor()\n",
    "cursor.execute('DELETE FROM SALES;')\n",
    "\n",
    "connection.commit()\n",
    "cursor.close()\n",
    "connection_pool.putconn(connection)"
   ]
  },
  {
   "cell_type": "code",
   "execution_count": 50,
   "id": "556d85fc",
   "metadata": {},
   "outputs": [],
   "source": [
    "# deliveryimport(new_deliv, connection_pool)"
   ]
  },
  {
   "cell_type": "code",
   "execution_count": 3,
   "id": "6f84235c",
   "metadata": {},
   "outputs": [
    {
     "name": "stdout",
     "output_type": "stream",
     "text": [
      "update: 16\n",
      "insert: 0\n"
     ]
    }
   ],
   "source": [
    "delivery_update('2022SS',store_type_input,connection_pool)"
   ]
  },
  {
   "cell_type": "code",
   "execution_count": 4,
   "id": "274772e5",
   "metadata": {},
   "outputs": [
    {
     "name": "stdout",
     "output_type": "stream",
     "text": [
      "update: 0\n",
      "insert: 180\n"
     ]
    }
   ],
   "source": [
    "sales_update(store_type_input,\n",
    "             file ='safeway_denver_salesupdate.xlsx',\n",
    "             transition_date_range='2022SS', \n",
    "             current_year= 2022, \n",
    "             current_week = 19, \n",
    "             connection_pool = connection_pool)"
   ]
  },
  {
   "cell_type": "code",
   "execution_count": 13,
   "id": "972e4998",
   "metadata": {},
   "outputs": [],
   "source": [
    "salesimport(new_sales, connection_pool)"
   ]
  },
  {
   "cell_type": "code",
   "execution_count": 6,
   "id": "4d44b00c",
   "metadata": {},
   "outputs": [],
   "source": [
    "sales_report= sales_report(store_type_input)"
   ]
  },
  {
   "cell_type": "code",
   "execution_count": 6,
   "id": "7c0c5c66",
   "metadata": {},
   "outputs": [],
   "source": [
    "casecapacity_import(case_capacity, connection_pool)"
   ]
  },
  {
   "cell_type": "code",
   "execution_count": 44,
   "id": "a97082d9",
   "metadata": {},
   "outputs": [],
   "source": [
    "supportimport(itemsupport, connection_pool)"
   ]
  },
  {
   "cell_type": "code",
   "execution_count": null,
   "id": "33c189c2",
   "metadata": {},
   "outputs": [],
   "source": [
    "# this code is to delete create or whatever you want to do with tablesw and views for all store databasesS\n",
    "\n",
    "sql_code = \"\"\"\n",
    "select * from sales\n",
    "\n",
    "\n",
    "\"\"\"\n",
    "\n",
    "sql_setup(sql_code)"
   ]
  },
  {
   "cell_type": "code",
   "execution_count": 9,
   "id": "1e308657",
   "metadata": {},
   "outputs": [],
   "source": [
    "import datetime\n",
    "#downloads the sales & delivery data for all stores\n",
    "store_list = [  \n",
    "                'acme',\n",
    "                'brookshire',\n",
    "                'fresh_encounter', \n",
    "                'intermountain', \n",
    "                'jewel',\n",
    "                'kroger_central', \n",
    "                'kroger_columbus',\n",
    "                'kroger_dallas', \n",
    "                'kroger_delta', \n",
    "                'kroger_michigan',\n",
    "                'kvat', \n",
    "                'safeway_denver', \n",
    "                'texas_division']\n",
    "\n",
    "i= 0\n",
    "num_of_store = len(store_list)\n",
    "\n",
    "date = datetime.date.today()\n",
    "date = date.strftime(\"%b-%d-%Y\")\n",
    "\n",
    "\n",
    "\n",
    "while i < num_of_store:\n",
    "\n",
    "    store = store_list[i]\n",
    "    connection = psycopg2.connect(database=f\"{store}\", user=\"postgres\", password=\"winwin\", host=\"localhost\")\n",
    "\n",
    "    num = psql.read_sql(f\"select * from delivery\", connection)\n",
    "\n",
    "    num.to_excel(f'{store}_deliverydata_backup_{date}.xlsx', index = False)\n",
    "    i+=1\n",
    "\n",
    "i= 0\n",
    "num_of_store = len(store_list)\n",
    "\n",
    "while i < num_of_store:\n",
    "\n",
    "    store = store_list[i]\n",
    "    connection = psycopg2.connect(database=f\"{store}\", user=\"postgres\", password=\"winwin\", host=\"localhost\")\n",
    "\n",
    "    num = psql.read_sql(f\"select * from sales\", connection)\n",
    "\n",
    "    \n",
    "    num.to_excel(f'{store}_salesdata_backup_{date}.xlsx', index = False)\n",
    "    i+=1\n",
    "    \n",
    "    \n",
    "    \n",
    "    \n",
    "\n"
   ]
  },
  {
   "cell_type": "code",
   "execution_count": 2,
   "id": "81f23ed6",
   "metadata": {},
   "outputs": [
    {
     "name": "stdout",
     "output_type": "stream",
     "text": [
      "Delivery Data Updated\n",
      "Updated: 31 Records\n",
      "Inserted: 0 Records\n",
      "\n",
      "\n",
      "\n",
      "Sales Report Generated\n"
     ]
    }
   ],
   "source": [
    "# Mid-Atlantic\n",
    "\n",
    "acme = Replenishment(store_type_input='acme',\n",
    "                     transition_date_range='2022SS', \n",
    "                     current_year = 2022 , \n",
    "                     current_week= 1)\n",
    "\n",
    "acme.delivery_update(file='acme')\n",
    "acme.sales_report()\n",
    "\n",
    "        \n"
   ]
  },
  {
   "cell_type": "code",
   "execution_count": 4,
   "id": "a9f69153",
   "metadata": {},
   "outputs": [
    {
     "name": "stdout",
     "output_type": "stream",
     "text": [
      "Delivery Data Updated\n",
      "Updated: 12 Records\n",
      "Inserted: 0 Records\n",
      "\n",
      "\n",
      "\n",
      "Sales Report Generated\n"
     ]
    }
   ],
   "source": [
    "# Texas Division\n",
    "\n",
    "texas_division = Replenishment(store_type_input='texas_division',\n",
    "                               transition_date_range='2022SS', \n",
    "                               current_year = 2022 , \n",
    "                               current_week= 1)\n",
    "\n",
    "texas_division.delivery_update(file='texas')\n",
    "texas_division.sales_report()\n",
    "\n",
    "        "
   ]
  },
  {
   "cell_type": "code",
   "execution_count": null,
   "id": "3347f407",
   "metadata": {},
   "outputs": [],
   "source": []
  }
 ],
 "metadata": {
  "interpreter": {
   "hash": "eb4e0a0fd1d19bb9a06c4c3c2c2cf016517ec825f23f225e84b2f7e81a104fe7"
  },
  "kernelspec": {
   "display_name": "Python 3 (ipykernel)",
   "language": "python",
   "name": "python3"
  },
  "language_info": {
   "codemirror_mode": {
    "name": "ipython",
    "version": 3
   },
   "file_extension": ".py",
   "mimetype": "text/x-python",
   "name": "python",
   "nbconvert_exporter": "python",
   "pygments_lexer": "ipython3",
   "version": "3.9.7"
  }
 },
 "nbformat": 4,
 "nbformat_minor": 5
}
